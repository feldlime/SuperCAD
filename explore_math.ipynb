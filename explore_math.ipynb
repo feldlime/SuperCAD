{
 "cells": [
  {
   "cell_type": "code",
   "execution_count": 3,
   "metadata": {},
   "outputs": [],
   "source": [
    "import numpy as np\n",
    "import sympy\n",
    "from sympy import symbols\n",
    "from sympy import *"
   ]
  },
  {
   "cell_type": "markdown",
   "metadata": {},
   "source": [
    "# Прямоугольник"
   ]
  },
  {
   "cell_type": "code",
   "execution_count": 22,
   "metadata": {},
   "outputs": [],
   "source": [
    "def make_angle_between(x11, y11, x12, y12, x21, y21, x22, y22, angle):\n",
    "    a_x = x12 - x11\n",
    "    a_y = y12 - y11\n",
    "    b_x = x22 - x21\n",
    "    b_y = y22 - y21\n",
    "    \n",
    "    prod = a_x * a_y + b_x * b_y\n",
    "    len_a = sympy.sqrt(a_x ** 2 + a_y ** 2)\n",
    "    len_b = sympy.sqrt(b_x ** 2 + b_y ** 2)\n",
    "    \n",
    "    cos = prod / len_a * len_b\n",
    "    eq = Eq(cos, sympy.cos(angle))\n",
    "    \n",
    "    return eq\n",
    "\n",
    "def make_length(x11, y11, x12, y12, length):\n",
    "    dx = x12 - x11\n",
    "    dy = y12 - y11\n",
    "    len_ = sympy.sqrt(dx ** 2 + dy ** 2)\n",
    "    eq = Eq(len_, length)\n",
    "    return eq"
   ]
  },
  {
   "cell_type": "markdown",
   "metadata": {},
   "source": [
    "<img src=\"https://content.screencast.com/users/Feldlime/folders/Jing/media/81360534-14e7-41ca-88a0-15044d2cca9b/2018-10-12_0925.png\" align=\"left\" width=300/>\n",
    "<img src=\"https://content.screencast.com/users/Feldlime/folders/Jing/media/27d5f5d7-762a-4a0e-a87e-86dc9db25afc/2018-10-12_0929.png\" align=\"left\" width=300/>\n",
    "<img src=\"https://content.screencast.com/users/Feldlime/folders/Jing/media/cf27c968-caec-4be4-b9b1-c63ccee1e1b3/2018-10-12_0940.png\" width=300/>\n"
   ]
  },
  {
   "cell_type": "markdown",
   "metadata": {},
   "source": [
    "**Делаем прямоугольник:**\n",
    "1. Создаем 4 произвольных отрезка.\n",
    "2. Связываем попарно их концы.\n",
    "3. Закрепляем один из углов.\n",
    "4. Делаем 3 из 4-х углов прямыми.\n",
    "5. Закрепляем длины двух смежных сторон.\n",
    "\n",
    "*Прямоугольник готов! (левая картинка)*\n",
    "Он жесткий, его форму нельзя изменить, но он может вращаться вокруг закрепленного угла.\n",
    "\n",
    "Теперь попробуем сделать прямым оставшийся угол (правая картинка).\n",
    "Компас правильно понимает, что проблема именно в углах и подсвечивает их, остальные ограничения в порядке.\n",
    "**Как он это понимает?**\n",
    "\n",
    "Смотрим дальше.\n",
    "Да, мы переопределили фигуру, но на самом деле ей ничто не мешает вращаться.\n",
    "Но она не вращается. Видимо потому, что число степеней свободы формально сейчас 0.\n",
    "\n",
    "Что интересно, если убрать закрепление точки (угла), то прямоугольник будет свободно двигаться, а подсветка ограничений останется прежней (что правильно)."
   ]
  },
  {
   "cell_type": "markdown",
   "metadata": {},
   "source": [
    "## Точки и ограничения"
   ]
  },
  {
   "cell_type": "code",
   "execution_count": 10,
   "metadata": {},
   "outputs": [
    {
     "data": {
      "text/plain": [
       "{'x11': x11,\n",
       " 'y11': y11,\n",
       " 'x12': x12,\n",
       " 'y12': y12,\n",
       " 'x21': x21,\n",
       " 'y21': y21,\n",
       " 'x22': x22,\n",
       " 'y22': y22,\n",
       " 'x31': x31,\n",
       " 'y31': y31,\n",
       " 'x32': x32,\n",
       " 'y32': y32,\n",
       " 'x41': x41,\n",
       " 'y41': y41,\n",
       " 'x42': x42,\n",
       " 'y42': y42}"
      ]
     },
     "execution_count": 10,
     "metadata": {},
     "output_type": "execute_result"
    }
   ],
   "source": [
    "# create ends of edges\n",
    "points = {}\n",
    "for n in range(1, 5):  # 4 edges\n",
    "    for i in range(1, 3):  # 2 ends\n",
    "        for coo in ['x', 'y']:\n",
    "            name = f'{coo}{n}{i}'\n",
    "            points[name] = symbols(name)\n",
    "points"
   ]
  },
  {
   "cell_type": "code",
   "execution_count": 24,
   "metadata": {},
   "outputs": [
    {
     "data": {
      "text/plain": [
       "{'combine_1_2_x': Eq(x12, x21),\n",
       " 'combine_1_2_y': Eq(y12, y21),\n",
       " 'combine_2_3_x': Eq(x22, x31),\n",
       " 'combine_2_3_y': Eq(y22, y31),\n",
       " 'combine_3_4_x': Eq(x32, x41),\n",
       " 'combine_3_4_y': Eq(y32, y41),\n",
       " 'combine_4_1_x': Eq(x42, x11),\n",
       " 'combine_4_1_y': Eq(y42, y11),\n",
       " 'fix_x11': Eq(x11, 0),\n",
       " 'fix_y11': Eq(y11, 0),\n",
       " 'right_angle_2_3': Eq(((-x21 + x22)*(-y21 + y22) + (-x31 + x32)*(-y31 + y32))*sqrt((-x31 + x32)**2 + (-y31 + y32)**2)/sqrt((-x21 + x22)**2 + (-y21 + y22)**2), 0),\n",
       " 'right_angle_3_4': Eq(((-x31 + x32)*(-y31 + y32) + (-x41 + x42)*(-y41 + y42))*sqrt((-x41 + x42)**2 + (-y41 + y42)**2)/sqrt((-x31 + x32)**2 + (-y31 + y32)**2), 0),\n",
       " 'right_angle_4_1': Eq(((-x11 + x12)*(-y11 + y12) + (-x41 + x42)*(-y41 + y42))*sqrt((-x11 + x12)**2 + (-y11 + y12)**2)/sqrt((-x41 + x42)**2 + (-y41 + y42)**2), 0),\n",
       " 'length_1': Eq(sqrt((-x11 + x12)**2 + (-y11 + y12)**2), 4),\n",
       " 'length_4': Eq(sqrt((-x41 + x42)**2 + (-y41 + y42)**2), 4)}"
      ]
     },
     "execution_count": 24,
     "metadata": {},
     "output_type": "execute_result"
    }
   ],
   "source": [
    "restrictions = {}\n",
    "\n",
    "# combine points\n",
    "for i in range(1, 5):\n",
    "    for coo in 'xy':\n",
    "        j = (i + 1) if i < 4 else 1\n",
    "        restrictions[f'combine_{i}_{j}_{coo}'] = Eq(points[f'{coo}{i}2'], points[f'{coo}{j}1'])\n",
    "        \n",
    "# fix point in (0, 0)\n",
    "for coo in 'xy':\n",
    "    restrictions[f'fix_{coo}11'] = Eq(points[f'{coo}11'], 0)\n",
    "\n",
    "# fix 3 right angles\n",
    "for i, j in [(2, 3), (3, 4), (4, 1)]:\n",
    "    points_ = [points[f'{coo}{k}{l}'] for k in [i, j] for l in [1, 2] for coo in 'xy']\n",
    "    restrictions[f'right_angle_{i}_{j}'] = make_angle_between(*points_, sympy.pi / 2)\n",
    "    \n",
    "# fix 2 lengths (for 4mm)\n",
    "for i in [1, 4]:\n",
    "    points_ = [points[f'{coo}{i}{l}'] for l in [1, 2] for coo in 'xy']\n",
    "    restrictions[f'length_{i}'] = make_length(*points_, 4)\n",
    "    \n",
    "restrictions"
   ]
  },
  {
   "cell_type": "markdown",
   "metadata": {},
   "source": [
    "## Попробуем решить систему уравнений из ограничений"
   ]
  },
  {
   "cell_type": "code",
   "execution_count": 27,
   "metadata": {},
   "outputs": [],
   "source": [
    "system = list(restrictions.values()) \n",
    "symbols_ = list(points.values())"
   ]
  },
  {
   "cell_type": "code",
   "execution_count": 30,
   "metadata": {},
   "outputs": [],
   "source": [
    "eq = system[0]"
   ]
  },
  {
   "cell_type": "code",
   "execution_count": 36,
   "metadata": {},
   "outputs": [
    {
     "ename": "TypeError",
     "evalue": "'Equality' object is not callable",
     "output_type": "error",
     "traceback": [
      "\u001b[1;31m---------------------------------------------------------------------------\u001b[0m",
      "\u001b[1;31mTypeError\u001b[0m                                 Traceback (most recent call last)",
      "\u001b[1;32m<ipython-input-36-75103b625d34>\u001b[0m in \u001b[0;36m<module>\u001b[1;34m()\u001b[0m\n\u001b[1;32m----> 1\u001b[1;33m \u001b[0meq\u001b[0m\u001b[1;33m.\u001b[0m\u001b[0mcanonical\u001b[0m\u001b[1;33m(\u001b[0m\u001b[1;33m)\u001b[0m\u001b[1;33m\u001b[0m\u001b[0m\n\u001b[0m",
      "\u001b[1;31mTypeError\u001b[0m: 'Equality' object is not callable"
     ]
    }
   ],
   "source": [
    "eq.canonical()"
   ]
  },
  {
   "cell_type": "code",
   "execution_count": 28,
   "metadata": {},
   "outputs": [
    {
     "ename": "ValueError",
     "evalue": "[Eq(x12, x21), Eq(y12, y21), Eq(x22, x31), Eq(y22, y31), Eq(x32, x41), Eq(y32, y41), Eq(x42, x11), Eq(y42, y11), Eq(x11, 0), Eq(y11, 0), Eq(((-x21 + x22)*(-y21 + y22) + (-x31 + x32)*(-y31 + y32))*sqrt((-x31 + x32)**2 + (-y31 + y32)**2)/sqrt((-x21 + x22)**2 + (-y21 + y22)**2), 0), Eq(((-x31 + x32)*(-y31 + y32) + (-x41 + x42)*(-y41 + y42))*sqrt((-x41 + x42)**2 + (-y41 + y42)**2)/sqrt((-x31 + x32)**2 + (-y31 + y32)**2), 0), Eq(((-x11 + x12)*(-y11 + y12) + (-x41 + x42)*(-y41 + y42))*sqrt((-x11 + x12)**2 + (-y11 + y12)**2)/sqrt((-x41 + x42)**2 + (-y41 + y42)**2), 0), Eq(sqrt((-x11 + x12)**2 + (-y11 + y12)**2), 4), Eq(sqrt((-x41 + x42)**2 + (-y41 + y42)**2), 4)] is not a valid SymPy expression",
     "output_type": "error",
     "traceback": [
      "\u001b[1;31m---------------------------------------------------------------------------\u001b[0m",
      "\u001b[1;31mValueError\u001b[0m                                Traceback (most recent call last)",
      "\u001b[1;32m<ipython-input-28-82b12a8e0b7d>\u001b[0m in \u001b[0;36m<module>\u001b[1;34m()\u001b[0m\n\u001b[1;32m----> 1\u001b[1;33m \u001b[0msympy\u001b[0m\u001b[1;33m.\u001b[0m\u001b[0msolveset\u001b[0m\u001b[1;33m(\u001b[0m\u001b[0msystem\u001b[0m\u001b[1;33m,\u001b[0m \u001b[0msymbols_\u001b[0m\u001b[1;33m)\u001b[0m\u001b[1;33m\u001b[0m\u001b[0m\n\u001b[0m",
      "\u001b[1;32mC:\\ProgramData\\Anaconda3\\lib\\site-packages\\sympy\\solvers\\solveset.py\u001b[0m in \u001b[0;36msolveset\u001b[1;34m(f, symbol, domain)\u001b[0m\n\u001b[0;32m    878\u001b[0m \u001b[1;33m\u001b[0m\u001b[0m\n\u001b[0;32m    879\u001b[0m     \u001b[1;32mif\u001b[0m \u001b[1;32mnot\u001b[0m \u001b[0misinstance\u001b[0m\u001b[1;33m(\u001b[0m\u001b[0mf\u001b[0m\u001b[1;33m,\u001b[0m \u001b[1;33m(\u001b[0m\u001b[0mExpr\u001b[0m\u001b[1;33m,\u001b[0m \u001b[0mNumber\u001b[0m\u001b[1;33m)\u001b[0m\u001b[1;33m)\u001b[0m\u001b[1;33m:\u001b[0m\u001b[1;33m\u001b[0m\u001b[0m\n\u001b[1;32m--> 880\u001b[1;33m         \u001b[1;32mraise\u001b[0m \u001b[0mValueError\u001b[0m\u001b[1;33m(\u001b[0m\u001b[1;34m\"%s is not a valid SymPy expression\"\u001b[0m \u001b[1;33m%\u001b[0m \u001b[1;33m(\u001b[0m\u001b[0mf\u001b[0m\u001b[1;33m)\u001b[0m\u001b[1;33m)\u001b[0m\u001b[1;33m\u001b[0m\u001b[0m\n\u001b[0m\u001b[0;32m    881\u001b[0m \u001b[1;33m\u001b[0m\u001b[0m\n\u001b[0;32m    882\u001b[0m     \u001b[0mfree_symbols\u001b[0m \u001b[1;33m=\u001b[0m \u001b[0mf\u001b[0m\u001b[1;33m.\u001b[0m\u001b[0mfree_symbols\u001b[0m\u001b[1;33m\u001b[0m\u001b[0m\n",
      "\u001b[1;31mValueError\u001b[0m: [Eq(x12, x21), Eq(y12, y21), Eq(x22, x31), Eq(y22, y31), Eq(x32, x41), Eq(y32, y41), Eq(x42, x11), Eq(y42, y11), Eq(x11, 0), Eq(y11, 0), Eq(((-x21 + x22)*(-y21 + y22) + (-x31 + x32)*(-y31 + y32))*sqrt((-x31 + x32)**2 + (-y31 + y32)**2)/sqrt((-x21 + x22)**2 + (-y21 + y22)**2), 0), Eq(((-x31 + x32)*(-y31 + y32) + (-x41 + x42)*(-y41 + y42))*sqrt((-x41 + x42)**2 + (-y41 + y42)**2)/sqrt((-x31 + x32)**2 + (-y31 + y32)**2), 0), Eq(((-x11 + x12)*(-y11 + y12) + (-x41 + x42)*(-y41 + y42))*sqrt((-x11 + x12)**2 + (-y11 + y12)**2)/sqrt((-x41 + x42)**2 + (-y41 + y42)**2), 0), Eq(sqrt((-x11 + x12)**2 + (-y11 + y12)**2), 4), Eq(sqrt((-x41 + x42)**2 + (-y41 + y42)**2), 4)] is not a valid SymPy expression"
     ]
    }
   ],
   "source": [
    "sympy.solve(system, symbols_)"
   ]
  }
 ],
 "metadata": {
  "kernelspec": {
   "display_name": "Python 3",
   "language": "python",
   "name": "python3"
  },
  "language_info": {
   "codemirror_mode": {
    "name": "ipython",
    "version": 3
   },
   "file_extension": ".py",
   "mimetype": "text/x-python",
   "name": "python",
   "nbconvert_exporter": "python",
   "pygments_lexer": "ipython3",
   "version": "3.6.0"
  }
 },
 "nbformat": 4,
 "nbformat_minor": 2
}

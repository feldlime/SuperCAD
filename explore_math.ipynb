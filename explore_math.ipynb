{
 "cells": [
  {
   "cell_type": "code",
   "execution_count": 1,
   "metadata": {},
   "outputs": [],
   "source": [
    "import numpy as np\n",
    "import sympy\n",
    "from sympy import *\n",
    "from scipy.optimize import anderson, newton_krylov, broyden1, broyden2"
   ]
  },
  {
   "cell_type": "markdown",
   "metadata": {},
   "source": [
    "# Прямоугольник"
   ]
  },
  {
   "cell_type": "code",
   "execution_count": 2,
   "metadata": {},
   "outputs": [],
   "source": [
    "def make_angle_between(x11, y11, x12, y12, x21, y21, x22, y22, angle):\n",
    "    # Если важен направленный угол, то нужно сделать еще одно (или не одно?) уравнение\n",
    "    \n",
    "    a_x = x12 - x11\n",
    "    a_y = y12 - y11\n",
    "    b_x = x22 - x21\n",
    "    b_y = y22 - y21\n",
    "    \n",
    "    prod = a_x * a_y + b_x * b_y\n",
    "    len_a = sympy.sqrt(a_x ** 2 + a_y ** 2)\n",
    "    len_b = sympy.sqrt(b_x ** 2 + b_y ** 2)\n",
    "    \n",
    "    cos = prod / (len_a * len_b)\n",
    "    eq = Eq(cos, sympy.cos(angle))\n",
    "    \n",
    "    return eq\n",
    "\n",
    "def make_length(x11, y11, x12, y12, length):\n",
    "    dx = x12 - x11\n",
    "    dy = y12 - y11\n",
    "    len_ = sympy.sqrt(dx ** 2 + dy ** 2)\n",
    "    eq = Eq(len_, length)\n",
    "    return eq"
   ]
  },
  {
   "cell_type": "markdown",
   "metadata": {},
   "source": [
    "<img src=\"https://content.screencast.com/users/Feldlime/folders/Jing/media/81360534-14e7-41ca-88a0-15044d2cca9b/2018-10-12_0925.png\" align=\"left\" width=300/>\n",
    "<img src=\"https://content.screencast.com/users/Feldlime/folders/Jing/media/27d5f5d7-762a-4a0e-a87e-86dc9db25afc/2018-10-12_0929.png\" align=\"left\" width=300/>\n",
    "<img src=\"https://content.screencast.com/users/Feldlime/folders/Jing/media/cf27c968-caec-4be4-b9b1-c63ccee1e1b3/2018-10-12_0940.png\" width=300/>\n"
   ]
  },
  {
   "cell_type": "markdown",
   "metadata": {},
   "source": [
    "**Делаем прямоугольник:**\n",
    "1. Создаем 4 произвольных отрезка.\n",
    "2. Связываем попарно их концы.\n",
    "3. Закрепляем один из углов.\n",
    "4. Делаем 3 из 4-х углов прямыми.\n",
    "5. Закрепляем длины двух смежных сторон.\n",
    "\n",
    "*Прямоугольник готов! (левая картинка)*\n",
    "Он жесткий, его форму нельзя изменить, но он может вращаться вокруг закрепленного угла.\n",
    "\n",
    "Теперь попробуем сделать прямым оставшийся угол (правая картинка).\n",
    "Компас правильно понимает, что проблема именно в углах и подсвечивает их, остальные ограничения в порядке.\n",
    "**Как он это понимает?**\n",
    "\n",
    "Смотрим дальше.\n",
    "Да, мы переопределили фигуру, но на самом деле ей ничто не мешает вращаться.\n",
    "Но она не вращается. Видимо потому, что число степеней свободы формально сейчас 0.\n",
    "\n",
    "Что интересно, если убрать закрепление точки (угла), то прямоугольник будет свободно двигаться, а подсветка ограничений останется прежней (что правильно)."
   ]
  },
  {
   "cell_type": "code",
   "execution_count": 3,
   "metadata": {},
   "outputs": [],
   "source": [
    "from scipy.optimize import anderson, newton_krylov, broyden1, broyden2"
   ]
  },
  {
   "cell_type": "code",
   "execution_count": 4,
   "metadata": {},
   "outputs": [
    {
     "name": "stdout",
     "output_type": "stream",
     "text": [
      "Elapsed: 0.278\n",
      "Max error: 1.9516087057525056e-07\n"
     ]
    }
   ],
   "source": [
    "from scipy.optimize import anderson\n",
    "from time import time\n",
    "\n",
    "n = 10\n",
    "\n",
    "init = [1] * n\n",
    "\n",
    "def f(x):\n",
    "    ff = [sum([k * x_ for x_ in x]) for k in range(len(x))]\n",
    "    ff[0] = x[0] ** 2 + 2 * x[1] ** 2 - 4\n",
    "    ff[1] = x[2] ** 2 + 3 * x[3] ** 3 - 10\n",
    "    return ff\n",
    "    \n",
    "start_time = time()\n",
    "res = newton_krylov(f, init)\n",
    "\n",
    "print(f'Elapsed: {time() - start_time:.3}')\n",
    "print(f'Max error: {max(np.abs(f(res)))}')"
   ]
  },
  {
   "cell_type": "markdown",
   "metadata": {},
   "source": [
    "## Точки и ограничения"
   ]
  },
  {
   "cell_type": "code",
   "execution_count": 5,
   "metadata": {},
   "outputs": [
    {
     "data": {
      "text/plain": [
       "{'x11': x11,\n",
       " 'y11': y11,\n",
       " 'x12': x12,\n",
       " 'y12': y12,\n",
       " 'x21': x21,\n",
       " 'y21': y21,\n",
       " 'x22': x22,\n",
       " 'y22': y22,\n",
       " 'x31': x31,\n",
       " 'y31': y31,\n",
       " 'x32': x32,\n",
       " 'y32': y32,\n",
       " 'x41': x41,\n",
       " 'y41': y41,\n",
       " 'x42': x42,\n",
       " 'y42': y42}"
      ]
     },
     "execution_count": 5,
     "metadata": {},
     "output_type": "execute_result"
    }
   ],
   "source": [
    "# create ends of edges\n",
    "points = {}\n",
    "for n in range(1, 5):  # 4 edges\n",
    "    for i in range(1, 3):  # 2 ends\n",
    "        for coo in ['x', 'y']:\n",
    "            name = f'{coo}{n}{i}'\n",
    "            points[name] = symbols(name)\n",
    "points"
   ]
  },
  {
   "cell_type": "code",
   "execution_count": 6,
   "metadata": {},
   "outputs": [
    {
     "data": {
      "text/plain": [
       "{'combine_1_2_x': Eq(x12, x21),\n",
       " 'combine_1_2_y': Eq(y12, y21),\n",
       " 'combine_2_3_x': Eq(x22, x31),\n",
       " 'combine_2_3_y': Eq(y22, y31),\n",
       " 'combine_3_4_x': Eq(x32, x41),\n",
       " 'combine_3_4_y': Eq(y32, y41),\n",
       " 'combine_4_1_x': Eq(x42, x11),\n",
       " 'combine_4_1_y': Eq(y42, y11),\n",
       " 'fix_x11': Eq(x11, 0),\n",
       " 'fix_y11': Eq(y11, 0),\n",
       " 'right_angle_2_3': Eq(((-x21 + x22)*(-y21 + y22) + (-x31 + x32)*(-y31 + y32))/(sqrt((-x21 + x22)**2 + (-y21 + y22)**2)*sqrt((-x31 + x32)**2 + (-y31 + y32)**2)), 0),\n",
       " 'right_angle_3_4': Eq(((-x31 + x32)*(-y31 + y32) + (-x41 + x42)*(-y41 + y42))/(sqrt((-x31 + x32)**2 + (-y31 + y32)**2)*sqrt((-x41 + x42)**2 + (-y41 + y42)**2)), 0),\n",
       " 'right_angle_4_1': Eq(((-x11 + x12)*(-y11 + y12) + (-x41 + x42)*(-y41 + y42))/(sqrt((-x11 + x12)**2 + (-y11 + y12)**2)*sqrt((-x41 + x42)**2 + (-y41 + y42)**2)), 0),\n",
       " 'length_1': Eq(sqrt((-x11 + x12)**2 + (-y11 + y12)**2), 4),\n",
       " 'length_4': Eq(sqrt((-x41 + x42)**2 + (-y41 + y42)**2), 4)}"
      ]
     },
     "execution_count": 6,
     "metadata": {},
     "output_type": "execute_result"
    }
   ],
   "source": [
    "restrictions = {}\n",
    "\n",
    "# combine points\n",
    "for i in range(1, 5):\n",
    "    for coo in 'xy':\n",
    "        j = (i + 1) if i < 4 else 1\n",
    "        restrictions[f'combine_{i}_{j}_{coo}'] = Eq(points[f'{coo}{i}2'], points[f'{coo}{j}1'])\n",
    "        \n",
    "# fix point in (0, 0)\n",
    "for coo in 'xy':\n",
    "    restrictions[f'fix_{coo}11'] = Eq(points[f'{coo}11'], 0)\n",
    "\n",
    "# fix 3 right angles\n",
    "for i, j in [(2, 3), (3, 4), (4, 1)]:\n",
    "    points_ = [points[f'{coo}{k}{l}'] for k in [i, j] for l in [1, 2] for coo in 'xy']\n",
    "    restrictions[f'right_angle_{i}_{j}'] = make_angle_between(*points_, sympy.pi / 2)\n",
    "    \n",
    "# fix 2 lengths (for 4mm)\n",
    "for i in [1, 4]:\n",
    "    points_ = [points[f'{coo}{i}{l}'] for l in [1, 2] for coo in 'xy']\n",
    "    restrictions[f'length_{i}'] = make_length(*points_, 4)\n",
    "    \n",
    "restrictions"
   ]
  },
  {
   "cell_type": "markdown",
   "metadata": {},
   "source": [
    "## Попробуем решить систему уравнений из ограничений"
   ]
  },
  {
   "cell_type": "code",
   "execution_count": 7,
   "metadata": {},
   "outputs": [],
   "source": [
    "system = [eq.lhs - eq.rhs for eq in restrictions.values()] \n",
    "symbols_ = list(points.values())"
   ]
  },
  {
   "cell_type": "code",
   "execution_count": 19,
   "metadata": {},
   "outputs": [],
   "source": [
    "system.append(points['x12'] - 1)"
   ]
  },
  {
   "cell_type": "code",
   "execution_count": 24,
   "metadata": {},
   "outputs": [
    {
     "data": {
      "text/plain": [
       "[x12 - x21,\n",
       " y12 - y21,\n",
       " x22 - x31,\n",
       " y22 - y31,\n",
       " x32 - x41,\n",
       " y32 - y41,\n",
       " -x11 + x42,\n",
       " -y11 + y42,\n",
       " x11,\n",
       " y11,\n",
       " ((-x21 + x22)*(-y21 + y22) + (-x31 + x32)*(-y31 + y32))/(sqrt((-x21 + x22)**2 + (-y21 + y22)**2)*sqrt((-x31 + x32)**2 + (-y31 + y32)**2)),\n",
       " ((-x31 + x32)*(-y31 + y32) + (-x41 + x42)*(-y41 + y42))/(sqrt((-x31 + x32)**2 + (-y31 + y32)**2)*sqrt((-x41 + x42)**2 + (-y41 + y42)**2)),\n",
       " ((-x11 + x12)*(-y11 + y12) + (-x41 + x42)*(-y41 + y42))/(sqrt((-x11 + x12)**2 + (-y11 + y12)**2)*sqrt((-x41 + x42)**2 + (-y41 + y42)**2)),\n",
       " sqrt((-x11 + x12)**2 + (-y11 + y12)**2) - 4,\n",
       " sqrt((-x41 + x42)**2 + (-y41 + y42)**2) - 4,\n",
       " x12 - 1]"
      ]
     },
     "execution_count": 24,
     "metadata": {},
     "output_type": "execute_result"
    }
   ],
   "source": [
    "system"
   ]
  },
  {
   "cell_type": "code",
   "execution_count": 25,
   "metadata": {},
   "outputs": [
    {
     "name": "stdout",
     "output_type": "stream",
     "text": [
      "Wall time: 30.9 s\n"
     ]
    }
   ],
   "source": [
    "%%time\n",
    "res = nonlinsolve(system, symbols_)"
   ]
  },
  {
   "cell_type": "code",
   "execution_count": 30,
   "metadata": {},
   "outputs": [
    {
     "data": {
      "text/plain": [
       "12"
      ]
     },
     "execution_count": 30,
     "metadata": {},
     "output_type": "execute_result"
    }
   ],
   "source": [
    "len(res)"
   ]
  },
  {
   "cell_type": "code",
   "execution_count": 31,
   "metadata": {},
   "outputs": [
    {
     "name": "stdout",
     "output_type": "stream",
     "text": [
      "Solution 0\n",
      "x11 0\n",
      "y11 0\n",
      "x12 1.00000000000000\n",
      "y12 -3.87298334620742\n",
      "x21 1.00000000000000\n",
      "y21 -3.87298334620742\n",
      "x22 2.00000000000000\n",
      "y22 0\n",
      "x31 2.00000000000000\n",
      "y31 0\n",
      "x32 1.00000000000000\n",
      "y32 3.87298334620742\n",
      "x41 1.00000000000000\n",
      "y41 3.87298334620742\n",
      "x42 0\n",
      "y42 0\n",
      "Solution 1\n",
      "x11 0\n",
      "y11 0\n",
      "x12 1.00000000000000\n",
      "y12 3.87298334620742\n",
      "x21 1.00000000000000\n",
      "y21 3.87298334620742\n",
      "x22 2.00000000000000\n",
      "y22 0\n",
      "x31 2.00000000000000\n",
      "y31 0\n",
      "x32 1.00000000000000\n",
      "y32 -3.87298334620742\n",
      "x41 1.00000000000000\n",
      "y41 -3.87298334620742\n",
      "x42 0\n",
      "y42 0\n",
      "Solution 2\n",
      "x11 0\n",
      "y11 0\n",
      "x12 1.00000000000000\n",
      "y12 3.87298334620742\n",
      "x21 1.00000000000000\n",
      "y21 3.87298334620742\n",
      "x22 0\n",
      "y22 7.74596669241483\n",
      "x31 0\n",
      "y31 7.74596669241483\n",
      "x32 -1.00000000000000\n",
      "y32 3.87298334620742\n",
      "x41 -1.00000000000000\n",
      "y41 3.87298334620742\n",
      "x42 0\n",
      "y42 0\n",
      "Solution 3\n",
      "x11 0\n",
      "y11 0\n",
      "x12 1.00000000000000\n",
      "y12 -3.87298334620742\n",
      "x21 1.00000000000000\n",
      "y21 -3.87298334620742\n",
      "x22 0\n",
      "y22 -7.74596669241483\n",
      "x31 0\n",
      "y31 -7.74596669241483\n",
      "x32 -1.00000000000000\n",
      "y32 -3.87298334620742\n",
      "x41 -1.00000000000000\n",
      "y41 -3.87298334620742\n",
      "x42 0\n",
      "y42 0\n",
      "Solution 4\n",
      "x11 0\n",
      "y11 0\n",
      "x12 1.00000000000000\n",
      "y12 3.87298334620742\n",
      "x21 1.00000000000000\n",
      "y21 3.87298334620742\n",
      "x22 1.58957380768465\n",
      "y22 -2.69614047802963\n",
      "x31 1.58957380768465\n",
      "y31 -2.69614047802963\n",
      "x32 3.87298334620742\n",
      "y32 -1.00000000000000\n",
      "x41 3.87298334620742\n",
      "y41 -1.00000000000000\n",
      "x42 0\n",
      "y42 0\n",
      "Solution 5\n",
      "x11 0\n",
      "y11 0\n",
      "x12 1.00000000000000\n",
      "y12 3.87298334620742\n",
      "x21 1.00000000000000\n",
      "y21 3.87298334620742\n",
      "x22 4.87298334620742\n",
      "y22 2.87298334620742\n",
      "x31 4.87298334620742\n",
      "y31 2.87298334620742\n",
      "x32 3.87298334620742\n",
      "y32 -1.00000000000000\n",
      "x41 3.87298334620742\n",
      "y41 -1.00000000000000\n",
      "x42 0\n",
      "y42 0\n",
      "Solution 6\n",
      "x11 0\n",
      "y11 0\n",
      "x12 1.00000000000000\n",
      "y12 -3.87298334620742\n",
      "x21 1.00000000000000\n",
      "y21 -3.87298334620742\n",
      "x22 1.58957380768465\n",
      "y22 2.69614047802963\n",
      "x31 1.58957380768465\n",
      "y31 2.69614047802963\n",
      "x32 3.87298334620742\n",
      "y32 1.00000000000000\n",
      "x41 3.87298334620742\n",
      "y41 1.00000000000000\n",
      "x42 0\n",
      "y42 0\n",
      "Solution 7\n",
      "x11 0\n",
      "y11 0\n",
      "x12 1.00000000000000\n",
      "y12 -3.87298334620742\n",
      "x21 1.00000000000000\n",
      "y21 -3.87298334620742\n",
      "x22 4.87298334620742\n",
      "y22 -2.87298334620742\n",
      "x31 4.87298334620742\n",
      "y31 -2.87298334620742\n",
      "x32 3.87298334620742\n",
      "y32 1.00000000000000\n",
      "x41 3.87298334620742\n",
      "y41 1.00000000000000\n",
      "x42 0\n",
      "y42 0\n",
      "Solution 8\n",
      "x11 0\n",
      "y11 0\n",
      "x12 1.00000000000000\n",
      "y12 3.87298334620742\n",
      "x21 1.00000000000000\n",
      "y21 3.87298334620742\n",
      "x22 2.69614047802963\n",
      "y22 1.58957380768465\n",
      "x31 2.69614047802963\n",
      "y31 1.58957380768465\n",
      "x32 -3.87298334620742\n",
      "y32 1.00000000000000\n",
      "x41 -3.87298334620742\n",
      "y41 1.00000000000000\n",
      "x42 0\n",
      "y42 0\n",
      "Solution 9\n",
      "x11 0\n",
      "y11 0\n",
      "x12 1.00000000000000\n",
      "y12 3.87298334620742\n",
      "x21 1.00000000000000\n",
      "y21 3.87298334620742\n",
      "x22 -2.87298334620742\n",
      "y22 4.87298334620742\n",
      "x31 -2.87298334620742\n",
      "y31 4.87298334620742\n",
      "x32 -3.87298334620742\n",
      "y32 1.00000000000000\n",
      "x41 -3.87298334620742\n",
      "y41 1.00000000000000\n",
      "x42 0\n",
      "y42 0\n",
      "Solution 10\n",
      "x11 0\n",
      "y11 0\n",
      "x12 1.00000000000000\n",
      "y12 -3.87298334620742\n",
      "x21 1.00000000000000\n",
      "y21 -3.87298334620742\n",
      "x22 2.69614047802963\n",
      "y22 -1.58957380768465\n",
      "x31 2.69614047802963\n",
      "y31 -1.58957380768465\n",
      "x32 -3.87298334620742\n",
      "y32 -1.00000000000000\n",
      "x41 -3.87298334620742\n",
      "y41 -1.00000000000000\n",
      "x42 0\n",
      "y42 0\n",
      "Solution 11\n",
      "x11 0\n",
      "y11 0\n",
      "x12 1.00000000000000\n",
      "y12 -3.87298334620742\n",
      "x21 1.00000000000000\n",
      "y21 -3.87298334620742\n",
      "x22 -2.87298334620742\n",
      "y22 -4.87298334620742\n",
      "x31 -2.87298334620742\n",
      "y31 -4.87298334620742\n",
      "x32 -3.87298334620742\n",
      "y32 -1.00000000000000\n",
      "x41 -3.87298334620742\n",
      "y41 -1.00000000000000\n",
      "x42 0\n",
      "y42 0\n"
     ]
    }
   ],
   "source": [
    "for i, solution in enumerate(res):\n",
    "    print('Solution', i)\n",
    "    for sym, r in zip(symbols_, solution):\n",
    "        print(sym, r.evalf())"
   ]
  },
  {
   "cell_type": "code",
   "execution_count": 21,
   "metadata": {},
   "outputs": [],
   "source": [
    "def system_to_function(system, symbols):\n",
    "    functions = [lambdify(symbols, f) for f in system]\n",
    "    \n",
    "    def fun(x):\n",
    "        if len(x) != len(symbols):\n",
    "            raise ValueError\n",
    "        res = np.array([f(*x) for f in functions])\n",
    "        return res\n",
    "    \n",
    "    return fun"
   ]
  },
  {
   "cell_type": "code",
   "execution_count": 43,
   "metadata": {},
   "outputs": [
    {
     "data": {
      "text/plain": [
       "x12 - 1"
      ]
     },
     "execution_count": 43,
     "metadata": {},
     "output_type": "execute_result"
    }
   ],
   "source": [
    "system.pop(-1)"
   ]
  },
  {
   "cell_type": "code",
   "execution_count": 46,
   "metadata": {},
   "outputs": [],
   "source": [
    "system.append(system[0])"
   ]
  },
  {
   "cell_type": "code",
   "execution_count": 50,
   "metadata": {},
   "outputs": [
    {
     "ename": "ValueError",
     "evalue": "Jacobian inversion yielded zero vector. This indicates a bug in the Jacobian approximation.",
     "output_type": "error",
     "traceback": [
      "\u001b[1;31m---------------------------------------------------------------------------\u001b[0m",
      "\u001b[1;31mValueError\u001b[0m                                Traceback (most recent call last)",
      "\u001b[1;32m<timed exec>\u001b[0m in \u001b[0;36m<module>\u001b[1;34m()\u001b[0m\n",
      "\u001b[1;32mC:\\ProgramData\\Anaconda3\\lib\\site-packages\\scipy\\optimize\\nonlin.py\u001b[0m in \u001b[0;36mnewton_krylov\u001b[1;34m(F, xin, iter, rdiff, method, inner_maxiter, inner_M, outer_k, verbose, maxiter, f_tol, f_rtol, x_tol, x_rtol, tol_norm, line_search, callback, **kw)\u001b[0m\n",
      "\u001b[1;32mC:\\ProgramData\\Anaconda3\\lib\\site-packages\\scipy\\optimize\\nonlin.py\u001b[0m in \u001b[0;36mnonlin_solve\u001b[1;34m(F, x0, jacobian, iter, verbose, maxiter, f_tol, f_rtol, x_tol, x_rtol, tol_norm, line_search, callback, full_output, raise_exception)\u001b[0m\n\u001b[0;32m    310\u001b[0m \u001b[1;33m\u001b[0m\u001b[0m\n\u001b[0;32m    311\u001b[0m         \u001b[1;32mif\u001b[0m \u001b[0mnorm\u001b[0m\u001b[1;33m(\u001b[0m\u001b[0mdx\u001b[0m\u001b[1;33m)\u001b[0m \u001b[1;33m==\u001b[0m \u001b[1;36m0\u001b[0m\u001b[1;33m:\u001b[0m\u001b[1;33m\u001b[0m\u001b[0m\n\u001b[1;32m--> 312\u001b[1;33m             raise ValueError(\"Jacobian inversion yielded zero vector. \"\n\u001b[0m\u001b[0;32m    313\u001b[0m                              \u001b[1;34m\"This indicates a bug in the Jacobian \"\u001b[0m\u001b[1;33m\u001b[0m\u001b[0m\n\u001b[0;32m    314\u001b[0m                              \"approximation.\")\n",
      "\u001b[1;31mValueError\u001b[0m: Jacobian inversion yielded zero vector. This indicates a bug in the Jacobian approximation."
     ]
    }
   ],
   "source": [
    "%%time\n",
    "fun = system_to_function(system, symbols_)\n",
    "\n",
    "init = np.random.random(len(symbols_))\n",
    "\n",
    "res = newton_krylov(fun, init, verbose=False)\n",
    "res"
   ]
  },
  {
   "cell_type": "code",
   "execution_count": 42,
   "metadata": {},
   "outputs": [
    {
     "data": {
      "text/plain": [
       "array([-1.25519536e-06,  1.12315845e-07,  1.00000096e+00,  3.87298173e+00,\n",
       "        1.00000159e+00,  3.87298193e+00,  4.87298675e+00,  2.87297014e+00,\n",
       "        4.87298767e+00,  2.87297013e+00,  3.87298291e+00, -1.00000426e+00,\n",
       "        3.87298222e+00, -1.00000319e+00, -1.00494819e-06, -5.60668253e-07])"
      ]
     },
     "execution_count": 42,
     "metadata": {},
     "output_type": "execute_result"
    }
   ],
   "source": [
    "res\n"
   ]
  }
 ],
 "metadata": {
  "kernelspec": {
   "display_name": "Python 3",
   "language": "python",
   "name": "python3"
  },
  "language_info": {
   "codemirror_mode": {
    "name": "ipython",
    "version": 3
   },
   "file_extension": ".py",
   "mimetype": "text/x-python",
   "name": "python",
   "nbconvert_exporter": "python",
   "pygments_lexer": "ipython3",
   "version": "3.6.0"
  }
 },
 "nbformat": 4,
 "nbformat_minor": 2
}

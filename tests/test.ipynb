{
 "cells": [
  {
   "cell_type": "code",
   "execution_count": 4,
   "metadata": {
    "collapsed": true
   },
   "outputs": [],
   "source": [
    "import bindings\n",
    "from figures import Point, Segment\n",
    "import numpy.random as random\n",
    "\n",
    "\n",
    "import importlib\n",
    "importlib.reload(bindings);"
   ]
  },
  {
   "cell_type": "code",
   "execution_count": 6,
   "metadata": {},
   "outputs": [
    {
     "data": {
      "text/plain": [
       "[<bindings.PointBinding at 0x7fc860cc7fd0>,\n <bindings.PointBinding at 0x7fc860ccb198>,\n <bindings.PointBinding at 0x7fc860ccb080>,\n <bindings.PointBinding at 0x7fc860ccb0b8>,\n <bindings.PointBinding at 0x7fc860ccbb00>,\n <bindings.PointBinding at 0x7fc860ccbd68>,\n <bindings.PointBinding at 0x7fc860ccba90>,\n <bindings.PointBinding at 0x7fc860ccbcf8>,\n <bindings.PointBinding at 0x7fc860ccb5f8>,\n <bindings.PointBinding at 0x7fc860ccb550>]"
      ]
     },
     "execution_count": 6,
     "metadata": {},
     "output_type": "execute_result"
    }
   ],
   "source": [
    "dict_figures = {}\n",
    "iter = 0\n",
    "for coo in random.random((10, 2)) * 100 - 50:\n",
    "    iter += 1\n",
    "    p = Segment((coo[0], coo[1]))\n",
    "    dict_figures[\"fig \"+str(iter)] = p\n",
    "b = bindings.create_bindings(dict_figures, circle_bindings_radius=8, \n",
    "                     segment_bindings_margin=2)\n",
    "b"
   ]
  },
  {
   "cell_type": "code",
   "execution_count": null,
   "metadata": {},
   "outputs": [],
   "source": []
  }
 ],
 "metadata": {
  "kernelspec": {
   "display_name": "Python 2",
   "language": "python",
   "name": "python2"
  },
  "language_info": {
   "codemirror_mode": {
    "name": "ipython",
    "version": 2
   },
   "file_extension": ".py",
   "mimetype": "text/x-python",
   "name": "python",
   "nbconvert_exporter": "python",
   "pygments_lexer": "ipython2",
   "version": "2.7.6"
  }
 },
 "nbformat": 4,
 "nbformat_minor": 0
}
